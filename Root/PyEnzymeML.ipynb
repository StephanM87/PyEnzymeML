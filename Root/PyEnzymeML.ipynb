{
 "cells": [
  {
   "cell_type": "code",
   "execution_count": 1,
   "metadata": {},
   "outputs": [],
   "source": [
    "from pyenzyme.enzymeml.tools import EnzymeMLReader, EnzymeMLWriter\n",
    "from pyenzyme.enzymeml.core import *\n",
    "\n"
   ]
  },
  {
   "cell_type": "code",
   "execution_count": 2,
   "metadata": {},
   "outputs": [
    {
     "data": {
      "text/plain": [
       "{'r0': <pyenzyme.enzymeml.core.enzymereaction.EnzymeReaction at 0x20b44178588>}"
      ]
     },
     "execution_count": 2,
     "metadata": {},
     "output_type": "execute_result"
    }
   ],
   "source": [
    "doc = EnzymeMLReader().readFromFile(\"Modified.omex\", omex=True)\n",
    "doc.setName(\"neuesSuperOmex\")\n",
    "\n",
    "doc.getUnitDict()\n",
    "doc.getReactantDict()\n",
    "doc.getReactionDict()\n"
   ]
  },
  {
   "cell_type": "code",
   "execution_count": 3,
   "metadata": {},
   "outputs": [],
   "source": [
    "enzyme = Protein(    name= \"Enzym\",\n",
    "                    id_=\"3132\",\n",
    "                    metaid=\"MetaID_3333\",\n",
    "                    sequence=\"d\",\n",
    "                    sboterm=\"SBO:0000252\",\n",
    "                    compartment_id = \"ID45\",\n",
    "                    init_conc = 0.02 ,\n",
    "                    substance_units = \"nmol/l\",\n",
    "                 boundary=False,\n",
    "                 constant=True)\n",
    "\n",
    "doc.addProtein(enzyme)"
   ]
  },
  {
   "cell_type": "code",
   "execution_count": 4,
   "metadata": {},
   "outputs": [
    {
     "ename": "AttributeError",
     "evalue": "module 'pyenzyme.enzymeml.core.protein' has no attribute 'getId'",
     "output_type": "error",
     "traceback": [
      "\u001b[1;31m---------------------------------------------------------------------------\u001b[0m",
      "\u001b[1;31mAttributeError\u001b[0m                            Traceback (most recent call last)",
      "\u001b[1;32m<ipython-input-4-ccdc8ad6d716>\u001b[0m in \u001b[0;36m<module>\u001b[1;34m\u001b[0m\n\u001b[1;32m----> 1\u001b[1;33m \u001b[0mdoc\u001b[0m\u001b[1;33m.\u001b[0m\u001b[0mgetProteinDict\u001b[0m\u001b[1;33m(\u001b[0m\u001b[1;33m)\u001b[0m\u001b[1;33m[\u001b[0m\u001b[0mprotein\u001b[0m\u001b[1;33m.\u001b[0m\u001b[0mgetId\u001b[0m\u001b[1;33m(\u001b[0m\u001b[1;33m)\u001b[0m\u001b[1;33m]\u001b[0m\u001b[1;33m=\u001b[0m \u001b[0mprotein\u001b[0m\u001b[1;33m\u001b[0m\u001b[1;33m\u001b[0m\u001b[0m\n\u001b[0m",
      "\u001b[1;31mAttributeError\u001b[0m: module 'pyenzyme.enzymeml.core.protein' has no attribute 'getId'"
     ]
    }
   ],
   "source": [
    "doc.getProteinDict()[protein.getId()]= protein"
   ]
  },
  {
   "cell_type": "code",
   "execution_count": null,
   "metadata": {},
   "outputs": [],
   "source": [
    "writer = EnzymeMLWriter()"
   ]
  },
  {
   "cell_type": "code",
   "execution_count": null,
   "metadata": {},
   "outputs": [],
   "source": [
    "writer.toFile(doc, \"Neu\")"
   ]
  },
  {
   "cell_type": "code",
   "execution_count": null,
   "metadata": {},
   "outputs": [],
   "source": []
  }
 ],
 "metadata": {
  "kernelspec": {
   "display_name": "Python 3",
   "language": "python",
   "name": "python3"
  },
  "language_info": {
   "codemirror_mode": {
    "name": "ipython",
    "version": 3
   },
   "file_extension": ".py",
   "mimetype": "text/x-python",
   "name": "python",
   "nbconvert_exporter": "python",
   "pygments_lexer": "ipython3",
   "version": "3.7.6"
  }
 },
 "nbformat": 4,
 "nbformat_minor": 4
}
