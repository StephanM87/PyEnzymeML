{
 "cells": [
  {
   "cell_type": "code",
   "execution_count": 18,
   "metadata": {},
   "outputs": [],
   "source": [
    "from pyenzyme.enzymeml.tools import EnzymeMLReader, EnzymeMLWriter\n",
    "from pyenzyme.enzymeml.core import *\n",
    "\n"
   ]
  },
  {
   "cell_type": "code",
   "execution_count": 30,
   "metadata": {},
   "outputs": [
    {
     "data": {
      "text/plain": [
       "{'r0': <pyenzyme.enzymeml.core.enzymereaction.EnzymeReaction at 0x17e0d497ac8>}"
      ]
     },
     "execution_count": 30,
     "metadata": {},
     "output_type": "execute_result"
    }
   ],
   "source": [
    "doc = EnzymeMLReader().readFromFile(\"Modified.omex\", omex=True)\n",
    "doc.setName(\"neuesSuperOmex\")\n",
    "\n",
    "doc.getUnitDict()\n",
    "doc.getReactantDict()\n",
    "doc.getReactionDict()\n"
   ]
  },
  {
   "cell_type": "code",
   "execution_count": 24,
   "metadata": {},
   "outputs": [],
   "source": [
    "protein = Protein(    name= \"Enzym\",\n",
    "                    id_=\"3132\",\n",
    "                    metaid=\"MetaID_3333\",\n",
    "                    sequence=\"d\",\n",
    "                    sboterm=\"SBO:0000252\",\n",
    "                    compartment_id = \"ID45\",\n",
    "                    init_conc = 0.02 ,\n",
    "                    substance_units = \"nmol/l\",\n",
    "                 boundary=False,\n",
    "                 constant=True)"
   ]
  },
  {
   "cell_type": "code",
   "execution_count": 25,
   "metadata": {},
   "outputs": [],
   "source": [
    "doc.getProteinDict()[protein.getId()]= protein"
   ]
  },
  {
   "cell_type": "code",
   "execution_count": 26,
   "metadata": {},
   "outputs": [],
   "source": [
    "writer = EnzymeMLWriter()"
   ]
  },
  {
   "cell_type": "code",
   "execution_count": 29,
   "metadata": {},
   "outputs": [
    {
     "name": "stdout",
     "output_type": "stream",
     "text": [
      "\n",
      "Archive created: neuesSuperOmex.omex\n"
     ]
    }
   ],
   "source": [
    "writer.toFile(doc, \"Neu\")"
   ]
  },
  {
   "cell_type": "code",
   "execution_count": null,
   "metadata": {},
   "outputs": [],
   "source": []
  }
 ],
 "metadata": {
  "kernelspec": {
   "display_name": "Python 3",
   "language": "python",
   "name": "python3"
  },
  "language_info": {
   "codemirror_mode": {
    "name": "ipython",
    "version": 3
   },
   "file_extension": ".py",
   "mimetype": "text/x-python",
   "name": "python",
   "nbconvert_exporter": "python",
   "pygments_lexer": "ipython3",
   "version": "3.7.6"
  }
 },
 "nbformat": 4,
 "nbformat_minor": 4
}
